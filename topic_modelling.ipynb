{
 "cells": [
  {
   "cell_type": "markdown",
   "metadata": {},
   "source": [
    "# Topic modelling using BERTopic"
   ]
  },
  {
   "cell_type": "markdown",
   "metadata": {},
   "source": [
    "## Libraries/data required"
   ]
  },
  {
   "cell_type": "code",
   "execution_count": null,
   "metadata": {},
   "outputs": [],
   "source": [
    "# Import library\n",
    "from bertopic import BERTopic\n",
    "from umap import UMAP\n",
    "import pandas as pd\n",
    "import os\n",
    "from tqdm.notebook import tqdm\n",
    "from collections import Counter\n",
    "import re\n",
    "from matplotlib_venn import venn3\n",
    "import matplotlib.pyplot as plt\n",
    "from zipfile import ZipFile\n",
    "\n",
    "# Import all helper function\n",
    "from helper_functions import *"
   ]
  },
  {
   "cell_type": "code",
   "execution_count": null,
   "metadata": {},
   "outputs": [],
   "source": [
    "path = ('given_data\\\\merged_summaries_fullarticles.zip') \n",
    "# loading the temp.zip and creating a zip object \n",
    "with ZipFile(path, 'r') as zObject: \n",
    "  \n",
    "    # Extracting all the members of the zip  \n",
    "    # into a specific location. \n",
    "    zObject.extractall( path=\"given_data\\\\\") "
   ]
  },
  {
   "cell_type": "markdown",
   "metadata": {},
   "source": [
    "Merge the summary with paragraphs"
   ]
  },
  {
   "cell_type": "code",
   "execution_count": null,
   "metadata": {},
   "outputs": [],
   "source": [
    "data_dir = ('\\\\given_data')\n",
    "end_data_dir = ('\\\\created_data')\n",
    "# Read in both summarized and full paragraphs dataframes\n",
    "df = pd.read_csv(os.getcwd() + data_dir + '\\\\full_dataset.csv')\n",
    "df_summary = pd.read_csv(os.getcwd() + data_dir + '\\\\articles_summary_cleaned.csv')"
   ]
  },
  {
   "cell_type": "code",
   "execution_count": null,
   "metadata": {},
   "outputs": [],
   "source": [
    "# Check the shape of the dataframes\n",
    "print('unique values for each column:')\n",
    "for i in df.columns:\n",
    "    print(i,len(df[i].unique()))\n",
    "print('shape of merged df:', df.shape)"
   ]
  },
  {
   "cell_type": "code",
   "execution_count": null,
   "metadata": {},
   "outputs": [],
   "source": [
    "# return the first row of each group\n",
    "df2 = df.groupby(['id', 'name']).first().reset_index()\n",
    "\n",
    "df_summary.set_index(df_summary['summary'] + df_summary['location_article'], inplace=True)\n",
    "# df_summary['key'] = pd.util.hash_pandas_object(df_summary['key'])\n",
    "\n",
    "df2.set_index(df2['summary'] + df2['name'], inplace=True)\n",
    "# df2['key'] = pd.util.hash_pandas_object(df2['key'])\n",
    "\n",
    "# join df_summary and df2 on the index using df2 as master.\n",
    "df_merged = pd.merge(df2, df_summary, how='inner', left_index=True, right_index=True, suffixes=('', '_remove')).reset_index()\n",
    "\n",
    "# drop duplicate columns from the join where the values are the same\n",
    "df_merged.drop([i for i in df_merged.columns if 'remove' in i],\n",
    "               axis=1, inplace=True)\n",
    "# drop location_article and key columns as well\n",
    "df_merged.drop(['location_article', 'id'], axis=1, inplace=True)\n",
    "\n",
    "# show the first 5 rows of the merged df\n",
    "df_merged.head()"
   ]
  },
  {
   "cell_type": "code",
   "execution_count": null,
   "metadata": {},
   "outputs": [],
   "source": [
    "# save the merged df to a csv file of the name 'corrected_full_dataset.csv'\n",
    "df_merged.to_csv(os.getcwd() + end_data_dir + '\\\\corrected_full_dataset.csv', index=False)"
   ]
  },
  {
   "cell_type": "markdown",
   "metadata": {},
   "source": [
    "Read in the correct dataset"
   ]
  },
  {
   "cell_type": "code",
   "execution_count": null,
   "metadata": {},
   "outputs": [],
   "source": [
    "# Read the data and perform preprocessing\n",
    "df = pd.read_csv(os.getcwd() + end_data_dir + \"\\\\corrected_full_dataset.csv\", parse_dates=[\"date\"]) # Read data into 'df' dataframe\n",
    "docs = df[\"summary\"].tolist() # Create a list containing all article summaries"
   ]
  },
  {
   "cell_type": "markdown",
   "metadata": {},
   "source": [
    "## Fitting BERTopic\n",
    "\n",
    "This might take a while on a CPU. In the background a pre-trained Large Language Model, called the sentence embedder, is used to convert the articles to a semantic vector space. We then perform clustering in this space."
   ]
  },
  {
   "cell_type": "code",
   "execution_count": null,
   "metadata": {},
   "outputs": [],
   "source": [
    "if os.path.exists('southsudan_model'):\n",
    "    bertopic = BERTopic.load('southsudan_model')\n",
    "else:\n",
    "    #Due to the modularity of the model, there is a lot of randomness that hinders reproducibiity of the model.\n",
    "    #To fight this, you can for example set random state in the dimensionality reduction step via the following lines \n",
    "    #or explore a different approach\n",
    "\n",
    "    umap_model = UMAP(n_neighbors=15, n_components=5, \n",
    "                 min_dist=0.0, metric='cosine', random_state=42) # Avoid the randomness of the model by setting a random state and umap implementation\n",
    "    bertopic = BERTopic(language=\"english\", calculate_probabilities=True, verbose=True, umap_model=umap_model) # Initialize the BERTopic model\n",
    "    bertopic.fit_transform(docs) # Fit the model to the list of article summaries\n",
    "    bertopic.save(\"southsudan_model\") # Save the trained model as \"southsudan_model\""
   ]
  },
  {
   "cell_type": "markdown",
   "metadata": {},
   "source": [
    "# Apply RAKE and YAKE"
   ]
  },
  {
   "cell_type": "code",
   "execution_count": null,
   "metadata": {},
   "outputs": [],
   "source": [
    "# Apply rake and yake to a dataframe and store it.\n",
    "df = rake_keywords(df)\n",
    "print('---------------------------YAKE Begins-------------------------')\n",
    "df = yake_keyword(df)\n",
    "\n",
    "# save the dataframe as the new dataset\n",
    "df.to_csv('created_data/dataset_with_keywords.csv')"
   ]
  },
  {
   "cell_type": "markdown",
   "metadata": {},
   "source": [
    "## Determination of keywords"
   ]
  },
  {
   "cell_type": "markdown",
   "metadata": {},
   "source": [
    "Get the top 50 Rake keywords with the summarized articles"
   ]
  },
  {
   "cell_type": "code",
   "execution_count": null,
   "metadata": {},
   "outputs": [],
   "source": [
    "# Iterate through the DataFrame and print each item in the lists\n",
    "keywords_list = []\n",
    "for index, row in df.iterrows():\n",
    "    for item in row['summary_rake_keywords']:\n",
    "        keywords_list.append(item)\n",
    "\n",
    "# Count the keywords and sort them using the Counter library\n",
    "counts = Counter(keywords_list)\n",
    "\n",
    "# Create a dataframe to sort the keywords more easily\n",
    "keywords_rake_summary = pd.DataFrame.from_dict(counts, orient='index').reset_index()\n",
    "keywords_rake_summary.rename( columns={0 :'values'}, inplace=True )\n",
    "keywords_rake_summary.sort_values(by='values', ascending=False)"
   ]
  },
  {
   "cell_type": "markdown",
   "metadata": {},
   "source": [
    "Top rake keywords with the paragraphs from the articles"
   ]
  },
  {
   "cell_type": "code",
   "execution_count": null,
   "metadata": {},
   "outputs": [],
   "source": [
    "# RAKE paragraphs\n",
    "# Iterate through the DataFrame and print each item in the lists\n",
    "keywords_list = []\n",
    "for index, row in df.iterrows():\n",
    "    for item in row['paragraphs_rake_keywords']:\n",
    "        keywords_list.append(item)\n",
    "\n",
    "# Count the keywords and sort them using the Counter library\n",
    "counts = Counter(keywords_list)\n",
    "\n",
    "# Create a dataframe to sort the keywords more easily\n",
    "keywords_rake_paragraphs = pd.DataFrame.from_dict(counts, orient='index').reset_index()\n",
    "keywords_rake_paragraphs.rename( columns={0 :'values'}, inplace=True )\n",
    "keywords_rake_paragraphs.sort_values(by='values', ascending=False)"
   ]
  },
  {
   "cell_type": "code",
   "execution_count": null,
   "metadata": {},
   "outputs": [],
   "source": [
    "test_df = df.copy()"
   ]
  },
  {
   "cell_type": "code",
   "execution_count": null,
   "metadata": {},
   "outputs": [],
   "source": [
    "yake_top_keywords_summary(test_df)"
   ]
  },
  {
   "cell_type": "code",
   "execution_count": null,
   "metadata": {},
   "outputs": [],
   "source": [
    "yake_top_keywords_paragraph(test_df)"
   ]
  },
  {
   "cell_type": "markdown",
   "metadata": {},
   "source": [
    "# Chosen keywords"
   ]
  },
  {
   "cell_type": "markdown",
   "metadata": {},
   "source": [
    "Based on the the top provided by the cells above, 50 words are chosen for each keyword extraction method\n",
    "The keywords are listed here below."
   ]
  },
  {
   "cell_type": "code",
   "execution_count": null,
   "metadata": {},
   "outputs": [],
   "source": [
    "chosen_keywords_yake_summary_pre2015 = ['South', 'Sudan', 'Juba', 'President', 'Sudanese', 'State', 'Jonglei', 'Bor', 'Kiir',\n",
    "                                'Abyei', 'Republic', 'United', 'African', 'Ethiopia', 'Ababa', 'Machar', 'Bentiu',\n",
    "                                'Uganda', 'County', 'Malakal', 'Yau', 'Unity', 'Nile', 'Riek', 'Darfur', 'Lakes',\n",
    "                                'Kenya', 'Security', 'Wau', 'National', 'Rumbek', 'December', 'Khartoum', 'Nuer',\n",
    "                                'Salva', 'Hon', 'Africa', 'Ghazal', 'East', 'Western', 'Equatoria', 'General',\n",
    "                                'Pibor', 'Human', 'Minister', 'Ministry', 'Council', 'University', 'China', \n",
    "                                 'Bahr']\n",
    "\n",
    "chosen_keywords_yake_paragraphs_pre2015 = ['South', 'Sudan', 'Sudanese', 'Kiir', 'Nations', 'United', 'Salva', 'President',\n",
    "                                  'African', 'Ababa', 'state', 'Addis', 'State', 'Nile', 'Liberation', 'Union',\n",
    "                                  'Riek', 'Machar', 'Jonglei', 'National', 'Security', 'Council', 'Equatoria',\n",
    "                                  'Upper', 'People', 'Movement', 'Tribune', 'Bahr', 'Minister', 'Juba', 'Unity',\n",
    "                                  'Abyei', 'International', 'East', 'Yau', 'Lakes', 'General', 'Africa', 'president',\n",
    "                                  'Legislative', 'States', 'Mayardit', 'Central', 'County', 'government', 'Western',\n",
    "                                  'Kordofan', 'Deng', 'Nuer', 'people']\n",
    "                                  \n",
    "                                  \n",
    "chosen_keywords_yake_summary_post2015 = ['South', 'Sudan', 'Juba', 'President', 'Uganda', 'Sudanese', 'Machar',\n",
    "                                         'African', 'United', 'State', 'Ethiopia', 'Kenya', 'Africa', 'Kiir',\n",
    "                                         'Khartoum', 'Ababa', 'Minister', 'Unity', 'Rwanda', 'Human', 'Malakal',\n",
    "                                         'Council', 'Somalia', 'Security', 'East', 'Nile', 'Health', 'Republic',\n",
    "                                         'Equatoria', 'Abyei', 'June', 'Bentiu', 'County', 'Wau', 'Jonglei', 'Police',\n",
    "                                         'Darfur', 'July', 'August', 'National', 'Egypt', 'Salva', 'Nigeria', 'Rumbek',\n",
    "                                         'Kenyan', 'December','November', 'Malong', 'Ugandan', 'Development']\n",
    "\n",
    "chosen_keywords_yake_paragraphs_post2015 = ['South', 'Sudan', 'Sudanese', 'President', 'Nations', 'United', 'Salva', 'Kiir', 'African', 'Machar',\n",
    "                                            'Riek', 'Council', 'Security', 'Africa', 'Union', 'State', 'National', 'Minister', 'Nile', 'Addis',\n",
    "                                            'Liberation', 'Ababa', 'East', 'Foreign', 'Juba', 'government', 'peace', 'States', 'Unity', 'Kenyatta',\n",
    "                                            'Authority', 'International', 'Affairs', 'People', 'Uganda', 'General', 'Upper', 'Uhuru', 'Prime',\n",
    "                                            'Development', 'Vice', 'Deputy', 'Movement', 'World', 'state', 'people', 'Transitional', 'Kenya',\n",
    "                                            'Equatoria', 'Deng']\n",
    "chosen_keywords_rake_summary_pre2015 = ['south', 'sudan', 'government', 'state', 'president', 'sudanese', 'juba', 'people',\n",
    "                                        'country', 'conflict', 'peace', 'security', 'kiir', 'including', 'salva', 'international',\n",
    "                                        'countries', 'oil', 'political', 'un', 'national', 'violence', 'support', 'african', 'forces', 'states',\n",
    "                                        'new', 'united', 'minister', 'issues', 'ongoing', 'development', 'agreement', 'talks',\n",
    "                                        'humanitarian', 'machar', 'jonglei', 'unity', 'fighting', 'nile', 'border', 'nations', 'highlights',\n",
    "                                        'riek', 'civilians', 'khartoum', 'leaders', 'army', 'community', 'former']\n",
    "\n",
    "chosen_keywords_rake_paragraphs_pre2015 = ['sudan', 'south', 'government', 'people', 'juba', 'country', 'state', 'sudanese', 'president',\n",
    "                                            'peace', 'kiir', 'security', 'new', 'international', 'salva', 'national', 'states',\n",
    "                                            'conflict', 'united', 'minister', 'political', 'time', 'countries',\n",
    "                                            'including', 'support', 'war', 'forces', 'general', 'nations', 'development', 'nation',\n",
    "                                            'first', 'capital', 'african', 'agreement', 'former', 'fighting', 'world', 'khartoum', 'un',\n",
    "                                            'community', 'army', 'republic', 'members', 'issues', 'areas', 'independence', 'situation',\n",
    "                                            'violence', 'splm']\n",
    "                                            \n",
    "                                            \n",
    "chosen_keywords_rake_summary_post2015 = ['south', 'sudan', 'peace', 'government', 'president', 'people', 'country', 'juba', 'sudanese',\n",
    "                                         'conflict', 'security', 'kiir', 'agreement', 'salva', 'un', 'state', 'war', 'international',\n",
    "                                         'violence', 'national', 'machar', 'humanitarian', 'million', 'riek', 'countries', 'african',\n",
    "                                         'political', 'support', 'civil', 'united', 'food', 'uganda', 'unity', 'ongoing', 'leaders',\n",
    "                                         'states', 'new', 'forces', 'development', 'aid', 'fighting', 'nations', 'vice', 'highlights',\n",
    "                                         'efforts', 'civilians', 'parties', 'situation', 'crisis', 'council', 'meeting', 'opposition']\n",
    "\n",
    "chosen_keywords_rake_paragraphs_post2015 = ['sudan', 'south', 'country', 'government', 'people', 'peace', 'president', 'sudanese', 'juba',\n",
    "                                            'conflict', 'state', 'security', 'kiir', 'war', 'international', 'salva', 'agreement', 'last', \n",
    "                                            'national', 'new', 'united', 'machar', 'first', 'riek', 'un', 'countries', 'political', 'african',\n",
    "                                            'time', 'support', 'million', 'violence', 'nations', 'world', 'according', 'forces', 'civil',\n",
    "                                            'development', 'fighting', 'end', 'humanitarian', 'former', 'states', 'leaders', 'parties', 'africa',\n",
    "                                            'minister', 'vice', 'general', 'community']\n",
    "                                            \n",
    "\n",
    "chosen_keywords_chatgpt = [\"Conflict\",\"Peace\",\"Famine\",\"Politics\",\"Aid\",\"UN\",\"Government\",\"Violence\",\"Refugee\",\"Election\",\"Corruption\",\n",
    "                           \"Humanitarian\",\"Economy\",\"Security\"\"Rebel\",\"Independence\",\"Poverty\",\"Oil\",\"Diplomacy\",\"Healthcare\",\"Education\",\n",
    "                           \"Militia\",\"Inflation\",\"Crisis\",\"Food\",\"Sanctions\",\"Child\",\"Displacement\",\"Peacekeeping\",\"Resolution\",\"Democracy\",\n",
    "                           \"War\",\"Infrastructure\",\"Woman\",  \"Media\",  \"Ethnicity\",  \"Mediation\",\"Coup\",\"Agriculture\",\"Water\",\"Development\",\n",
    "                           \"Youth\",\"Judicial\",\"Energy\",\"Childbirth\",\"Conservation\",\"Forest\",\"Mining\",\"Tribes\",\"Injustice\"]\n",
    "\n",
    "chosen_keywords_rake_summary = ['article', 'discusses', 'south',  'sudan', 'government', 'also', 'president', 'juba', 'sudanese','people', 'state', 'peace', 'country', 'conflict', 'security', 'kiir', 'including',\n",
    "                                'two', 'salva', 'due','international', 'un', 'countries', 'violence', 'national','agreement', 'political', 'african', 'support','000', 'humanitarian', 'forces', 'machar', 'united', 'need',\n",
    "                                'states', 'oil', 'new', 'ongoing', 'riek', 'development', 'war', 'minister', 'unity', 'million', 'issues', 'fighting', 'nations', 'highlights', 'talks']\n",
    "\n",
    "chosen_keywords_rake_paragraphs = ['sudan', 'south', 'said', 'government', 'people', 'also', 'juba', 'country', 'president', 'state', 'sudanese', 'two', '—', ',\"', 'peace', 'one', 'security', 'kiir',\n",
    "                                    'last', 'since','would', 'international', 'new', 'conflict','salva', 'year', 'national', 'united', 'war', 'political', 'states', 'countries', 'time', 'including', '.\"', 'minister', 'many', 'support',\n",
    "                                    'agreement', 'told','first', 'forces', 'well', 'however', 'nations', 'african', 'development', 'un', 'general', 'former']\n",
    "\n",
    "chosen_keywords_yake_paragraphs = ['Sudan', 'South', '', 'President', 'Juba', 'Kiir', 'Abyei', 'Machar', 'Sudanese', 'State', 'Bor', 'African', 'Uganda', \n",
    "                                   'Jonglei', 'Council', 'Darfur', 'Nile', 'United', 'Minister', 'Nuer', 'Khartoum', 'Government', 'Police', 'Ethiopia', 'Wau',\n",
    "                                     'Republic', 'Yau', 'Kenya', 'Health', 'Pibor', 'Bentiu', 'Rumbek', 'Ministry', 'University', 'Ababa', 'Malakal', 'Africa', \n",
    "                                     'Lakes', 'Unity', 'Bank','Murle', 'National', 'Commission', 'Human', 'Equatoria', 'Security', 'Mission', 'Food', 'Children', 'East']\n",
    "\n",
    "chosen_keywords_yake_summary = ['Sudan', 'South', '', 'Juba', 'President', 'Sudanese', 'State', 'Jonglei', 'Uganda', 'Kiir', 'Machar', 'United', 'African', 'Bor', 'Abyei', \n",
    "                                'Ethiopia', 'Republic', 'Ababa', 'Bentiu', 'Unity','Malakal', 'Kenya', 'County', 'Nile', 'Africa', 'Khartoum', 'Yau', 'Darfur', 'Riek', 'Security', \n",
    "                                'Wau', 'National', 'Rumbek', 'Minister', 'Lakes', 'December', 'Human', 'Salva', 'East', 'Equatoria','Council', 'General', 'Nuer', 'Pibor', 'Union',\n",
    "                                  'Ghazal', 'Ugandan', 'Hon', 'Somalia', 'China']\n",
    "# TODO: Insert the 2017 words here"
   ]
  },
  {
   "cell_type": "code",
   "execution_count": null,
   "metadata": {},
   "outputs": [],
   "source": [
    "# Apply the function to the different dataframes\n",
    "df_rake_paragraphs = add_keywords_as_columns_to_dataframe(chosen_keywords_rake_paragraphs, bertopic, df)\n",
    "df_rake_summary = add_keywords_as_columns_to_dataframe(chosen_keywords_rake_summary, bertopic, df)\n",
    "df_yake_paragraphs = add_keywords_as_columns_to_dataframe(chosen_keywords_yake_paragraphs, bertopic, df)\n",
    "df_yake_summary = add_keywords_as_columns_to_dataframe(chosen_keywords_yake_summary, bertopic, df)\n",
    "df_chatgpt = add_keywords_as_columns_to_dataframe(chosen_keywords_chatgpt, bertopic, df)"
   ]
  },
  {
   "cell_type": "code",
   "execution_count": null,
   "metadata": {},
   "outputs": [],
   "source": [
    "# store the csv's\n",
    "df_rake_paragraphs.to_csv('created_data/df_rake_paragraphs.csv')\n",
    "df_rake_summary.to_csv('created_data/df_rake_summary.csv')\n",
    "df_yake_paragraphs.to_csv('created_data/df_yake_paragraphs.csv')\n",
    "df_yake_summary.to_csv('created_data/df_yake_summary.csv')\n",
    "df_chatgpt.to_csv('created_data/df_chatgpt.csv')"
   ]
  },
  {
   "cell_type": "markdown",
   "metadata": {},
   "source": [
    "# Keyword analysis and visulizations"
   ]
  },
  {
   "cell_type": "code",
   "execution_count": null,
   "metadata": {},
   "outputs": [],
   "source": [
    "chosen_keywords_chatgpt = set([x.lower() for x in chosen_keywords_chatgpt])\n",
    "chosen_keywords_yake_paragraphs_post2015 = [x.lower() for x in chosen_keywords_yake_paragraphs_post2015]\n",
    "chosen_keywords_yake_summary_post2015= [x.lower() for x in chosen_keywords_yake_summary_post2015]\n",
    "chosen_keywords_yake_paragraphs_pre2015= [x.lower() for x in chosen_keywords_yake_paragraphs_pre2015]\n",
    "chosen_keywords_yake_summary_pre2015= [x.lower() for x in chosen_keywords_yake_summary_pre2015]"
   ]
  },
  {
   "cell_type": "code",
   "execution_count": null,
   "metadata": {},
   "outputs": [],
   "source": [
    "all_keywords_yake_pre2015 = chosen_keywords_yake_summary_pre2015 + chosen_keywords_yake_paragraphs_pre2015\n",
    "all_keywords_yake_post2015 = chosen_keywords_yake_summary_post2015 + chosen_keywords_yake_paragraphs_post2015\n",
    "all_keywords_rake_pre2015 = chosen_keywords_rake_summary_pre2015 + chosen_keywords_rake_paragraphs_pre2015\n",
    "all_keywords_rake_post2015 = chosen_keywords_rake_summary_post2015 + chosen_keywords_rake_paragraphs_post2015\n",
    "\n",
    "# Create subset of all yake and rake keywords\n",
    "all_keywords_rake = all_keywords_rake_post2015 + all_keywords_rake_pre2015\n",
    "all_keywords_yake = all_keywords_yake_post2015 + all_keywords_yake_pre2015\n",
    "\n",
    "# Create a subset for summaries and paragraphs\n",
    "all_summaries = chosen_keywords_yake_summary + chosen_keywords_rake_summary\n",
    "all_paragraphs = chosen_keywords_rake_paragraphs + chosen_keywords_yake_paragraphs\n",
    "\n",
    "# Create a pre and post 2015 subset of both rake and yake keywords\n",
    "all_pre2015 = all_keywords_rake_pre2015 + all_keywords_yake_pre2015\n",
    "all_post_2015 = all_keywords_rake_post2015 + all_keywords_yake_post2015"
   ]
  },
  {
   "cell_type": "code",
   "execution_count": null,
   "metadata": {},
   "outputs": [],
   "source": [
    "# Create a Venn diagram\n",
    "venn3([set(all_pre2015), set(all_post_2015), chosen_keywords_chatgpt], ('Pre-2015', 'Post-2015', 'ChatGPT'))\n",
    "\n",
    "# Display the diagram\n",
    "plt.title(\"Overlapping rake and yake\")\n",
    "plt.show()"
   ]
  },
  {
   "cell_type": "code",
   "execution_count": null,
   "metadata": {},
   "outputs": [],
   "source": [
    "# Create a Venn diagram\n",
    "venn3([set(all_summaries), set(all_paragraphs), chosen_keywords_chatgpt], ('Summaries', 'paragraphs', 'ChatGPT'))\n",
    "\n",
    "# Display the diagram\n",
    "plt.title(\"Overlapping Rake and Yake\")\n",
    "plt.show()"
   ]
  },
  {
   "cell_type": "markdown",
   "metadata": {},
   "source": [
    "# Modelling 2015 - 2017"
   ]
  },
  {
   "cell_type": "code",
   "execution_count": null,
   "metadata": {},
   "outputs": [],
   "source": [
    "# Load in the dataframe to make a split\n",
    "df = pd.read_csv('created_data/corrected_full_dataset.csv', parse_dates=['date'])"
   ]
  },
  {
   "cell_type": "code",
   "execution_count": null,
   "metadata": {},
   "outputs": [],
   "source": [
    "# Split the dataset on 2017 to see if the keywords are different.\n",
    "df_pre2017 = df[df['date'] < '2017-01-01']\n",
    "df_post2017 = df[df['date'] >= '2017-01-01']\n",
    "df_pre2015 = df[df['date'] < '2015-01-01']\n",
    "df_post2015 = df[df['date'] >= '2015-01-01']\n",
    "\n",
    "# Perform preprocessing\n",
    "docs_pre2017 = df_pre2017[\"summary\"].tolist() # Create a list containing all article summaries\n",
    "docs_post2017 = df_post2017[\"summary\"].tolist() # Create a list containing all article summaries\n",
    "docs = df['summary'].tolist()\n",
    "# Perform preprocessing\n",
    "docs_pre2015 = df_pre2015[\"summary\"].tolist() # Create a list containing all article summaries\n",
    "docs_post2015 = df_post2015[\"summary\"].tolist() # Create a list containing all article summaries\n",
    "docs = df['summary'].tolist()"
   ]
  },
  {
   "cell_type": "markdown",
   "metadata": {},
   "source": [
    "Fit Bertopic for 2017 + 2015 models"
   ]
  },
  {
   "cell_type": "code",
   "execution_count": null,
   "metadata": {},
   "outputs": [],
   "source": [
    "if os.path.exists('southsudan_modelpre2017'):\n",
    "    bertopicpre2017 = BERTopic.load('southsudan_modelpre2017')\n",
    "else:\n",
    "    #Due to the modularity of the model, there is a lot of randomness that hinders reproducibiity of the model.\n",
    "    #To fight this, you can for example set random state in the dimensionality reduction step via the following lines \n",
    "    #or explore a different approach\n",
    "\n",
    "    umap_model = UMAP(n_neighbors=15, n_components=5, \n",
    "                 min_dist=0.0, metric='cosine', random_state=42)\n",
    "    bertopicpre2017 = BERTopic(language=\"english\", calculate_probabilities=True, verbose=True, umap_model=umap_model) # Initialize the BERTopic model\n",
    "    bertopicpre2017.fit_transform(docs_pre2017) # Fit the model to the list of article summaries\n",
    "    bertopicpre2017.save(\"southsudan_modelpre2017\") # Save the trained model as \"southsudan_model\"\n",
    "    \n",
    "if os.path.exists('southsudan_modelpost2017'):\n",
    "    bertopicpost2017 = BERTopic.load('southsudan_modelpost2017')\n",
    "else:\n",
    "    #Due to the modularity of the model, there is a lot of randomness that hinders reproducibiity of the model.\n",
    "    #To fight this, you can for example set random state in the dimensionality reduction step via the following lines \n",
    "    #or explore a different approach\n",
    "\n",
    "    umap_model = UMAP(n_neighbors=15, n_components=5, \n",
    "                 min_dist=0.0, metric='cosine', random_state=42)\n",
    "    bertopicpost2017 = BERTopic(language=\"english\", calculate_probabilities=True, verbose=True, umap_model=umap_model) # Initialize the BERTopic model\n",
    "    bertopicpost2017.fit_transform(docs_post2017) # Fit the model to the list of article summaries\n",
    "    bertopicpost2017.save(\"southsudan_modelpost2017\") # Save the trained model as \"southsudan_model\"\n",
    "    "
   ]
  },
  {
   "cell_type": "code",
   "execution_count": null,
   "metadata": {},
   "outputs": [],
   "source": [
    "if os.path.exists('southsudan_modelpre2015'):\n",
    "    bertopicpre2015 = BERTopic.load('southsudan_modelpre2015')\n",
    "else:\n",
    "    #Due to the modularity of the model, there is a lot of randomness that hinders reproducibiity of the model.\n",
    "    #To fight this, you can for example set random state in the dimensionality reduction step via the following lines \n",
    "    #or explore a different approach\n",
    "\n",
    "    umap_model = UMAP(n_neighbors=15, n_components=5, \n",
    "                 min_dist=0.0, metric='cosine', random_state=42)\n",
    "    bertopicpre2015 = BERTopic(language=\"english\", calculate_probabilities=True, verbose=True, umap_model=umap_model) # Initialize the BERTopic model\n",
    "    bertopicpre2015.fit_transform(docs_pre2015) # Fit the model to the list of article summaries\n",
    "    bertopicpre2015.save(\"southsudan_modelpre2015\") # Save the trained model as \"southsudan_model\"\n",
    "    \n",
    "if os.path.exists('southsudan_modelpost2015'):\n",
    "    bertopicpost2015 = BERTopic.load('southsudan_modelpost2015')\n",
    "else:\n",
    "    #Due to the modularity of the model, there is a lot of randomness that hinders reproducibiity of the model.\n",
    "    #To fight this, you can for example set random state in the dimensionality reduction step via the following lines \n",
    "    #or explore a different approach\n",
    "\n",
    "    umap_model = UMAP(n_neighbors=15, n_components=5, \n",
    "                 min_dist=0.0, metric='cosine', random_state=42)\n",
    "    bertopicpost2015 = BERTopic(language=\"english\", calculate_probabilities=True, verbose=True, umap_model=umap_model) # Initialize the BERTopic model\n",
    "    bertopicpost2015.fit_transform(docs_post2015) # Fit the model to the list of article summaries\n",
    "    bertopicpost2015.save(\"southsudan_modelpost2015\") # Save the trained model as \"southsudan_model\"\n",
    "    "
   ]
  },
  {
   "cell_type": "markdown",
   "metadata": {},
   "source": [
    "Apply the Rake and Yake models"
   ]
  },
  {
   "cell_type": "code",
   "execution_count": null,
   "metadata": {},
   "outputs": [],
   "source": [
    " # Implement a progress bar in the cell to show the progress.\n",
    "tqdm.pandas()\n",
    "df_pre2017 = rake_keywords(df_pre2017)\n",
    "df_post2017 = rake_keywords(df_post2017)\n",
    "df_pre2017 = yake_keyword(df_pre2017)\n",
    "df_post2017 = yake_keyword(df_post2017)\n",
    "\n",
    "df_pre2017.to_csv('created_data/dataset_with_keywords_pre2017.csv')\n",
    "df_post2017.to_csv('created_dataset_with_keywords_post2017.csv')"
   ]
  },
  {
   "cell_type": "code",
   "execution_count": null,
   "metadata": {},
   "outputs": [],
   "source": [
    " # Implement a progress bar in the cell to show the progress.\n",
    "tqdm.pandas()\n",
    "df_pre2015 = rake_keywords(df_pre2015)\n",
    "df_post2015 = rake_keywords(df_post2015)\n",
    "df_pre2015 = yake_keyword(df_pre2015)\n",
    "df_post2015 = yake_keyword(df_post2015)\n",
    "\n",
    "df_pre2015.to_csv('created_data/dataset_with_keywords_pre2015.csv')\n",
    "df_post2015.to_csv('created_dataset_with_keywords_post2015.csv')"
   ]
  },
  {
   "cell_type": "markdown",
   "metadata": {},
   "source": [
    "# Determination of the keywords"
   ]
  },
  {
   "cell_type": "markdown",
   "metadata": {},
   "source": [
    "Rake summary"
   ]
  },
  {
   "cell_type": "code",
   "execution_count": null,
   "metadata": {},
   "outputs": [],
   "source": [
    "# Get the 50 'best' keywords\n",
    "extract_rake_summary_keywords(df_pre2017)\n",
    "extract_rake_summary_keywords(df_post2017)\n",
    "extract_rake_summary_keywords(df_pre2015)\n",
    "extract_rake_summary_keywords(df_post2015)"
   ]
  },
  {
   "cell_type": "markdown",
   "metadata": {},
   "source": [
    "Rake paragraphs"
   ]
  },
  {
   "cell_type": "code",
   "execution_count": null,
   "metadata": {},
   "outputs": [],
   "source": [
    "extract_rake_paragraphs_keywords(df_pre2017)\n",
    "extract_rake_paragraphs_keywords(df_post2017)\n",
    "extract_rake_paragraphs_keywords(df_pre2015)\n",
    "extract_rake_paragraphs_keywords(df_post2015)"
   ]
  },
  {
   "cell_type": "markdown",
   "metadata": {},
   "source": [
    "YAKE keywords"
   ]
  },
  {
   "cell_type": "code",
   "execution_count": null,
   "metadata": {},
   "outputs": [],
   "source": [
    "yake_top_keywords_paragraph(df_pre2017)\n",
    "yake_top_keywords_summary(df_pre2017)\n",
    "\n",
    "yake_top_keywords_paragraph(df_post2017)\n",
    "yake_top_keywords_summary(df_post2017)\n",
    "\n",
    "yake_top_keywords_paragraph(df_pre2015)\n",
    "yake_top_keywords_summary(df_pre2015)\n",
    "\n",
    "yake_top_keywords_paragraph(df_post2015)\n",
    "yake_top_keywords_summary(df_post2015)"
   ]
  },
  {
   "cell_type": "markdown",
   "metadata": {},
   "source": [
    "Chosen keywords"
   ]
  },
  {
   "cell_type": "code",
   "execution_count": null,
   "metadata": {},
   "outputs": [],
   "source": [
    "chosen_keywords_yake_summary_pre2017 = ['South', 'Sudan', 'Sudanese', 'Nations', 'United', 'Kiir', 'Salva', 'President', 'African', 'Ababa', 'State', 'Addis', \n",
    "                                        'state', 'Nile', 'Riek', 'Machar', 'Liberation', 'Union', 'Security', 'Council', 'National', 'Jonglei', 'Equatoria', 'People', \n",
    "                                        'Upper', 'Minister', 'Movement', 'Unity', 'Juba', 'East', 'Africa', 'Tribune', 'Bahr', 'International', 'Abyei', 'States', 'Yau', \n",
    "                                        'General', 'government', 'Lakes', 'president', 'Central', 'Western', 'Foreign', 'Legislative', 'Deng', 'Mayardit', 'people', 'County', 'Affairs']\n",
    "\n",
    "\n",
    "chosen_keywords_yake_paragraphs_pre2017 = ['Sudan', 'South', 'Juba', 'President', 'Sudanese', 'State', 'Jonglei',  'Kiir', 'Bor', 'African', 'Republic', 'Machar', 'Abyei',\n",
    "                                            'United', 'Uganda', 'Ethiopia', 'Ababa','Bentiu', 'Unity', 'Malakal', 'County', 'Nile', 'Yau', 'Darfur', 'Kenya', 'Riek', \n",
    "                                            'Security', 'Wau', 'Lakes', 'Rumbek', 'Khartoum', 'National', 'December', 'Africa', 'Nuer', 'Equatoria', 'Human', 'Council',\n",
    "                                              'East', 'Salva', 'Ghazal', 'Minister','Hon','Western','General','Government','China','Union','Pibor','July']\n",
    "\n",
    "\n",
    "chosen_keywords_rake_paragraphs_post2017 = ['sudan', 'south', 'government', 'country', 'people', 'peace', 'sudanese', 'president', 'juba', 'security', 'year',\n",
    "                                             'national', 'state', 'kiir', 'conflict', 'international', 'salva', 'war', 'last', 'agreement',  'first', 'new', 'years',\n",
    "                                               'support', 'countries', 'political', 'united', 'time', 'million', 'world', 'development', 'civil', 'according', \n",
    "                                                 'violence',  'african',  'un', 'riek', 'machar', 'minister', 'africa', 'humanitarian', 'states', 'us', 'forces',\n",
    "                                                   'work', 'end', 'nations', 'leaders', 'process', 'community']\n",
    "\n",
    "chosen_keywords_rake_summary_post2017 = ['south', 'sudan', 'government', 'peace', 'president', 'country', 'juba', 'sudanese', 'people', 'security', 'conflict',\n",
    "                                          'kiir', 'agreement', 'salva', 'national',  'state', 'war', 'international', 'violence', 'un', 'humanitarian', 'countries', \n",
    "                                          'million', 'political', 'support', 'civil', 'machar', 'food', 'development', 'african', 'uganda', 'new', 'states', 'united',\n",
    "                                            'riek', 'unity', 'aid', 'efforts', 'leaders', 'rights', 'ongoing', 'parties', 'transitional', 'meeting', 'year', 'nations',\n",
    "                                              'minister', 'process', 'forces', 'africa']"
   ]
  },
  {
   "cell_type": "code",
   "execution_count": null,
   "metadata": {},
   "outputs": [],
   "source": [
    "chosen_keywords_yake_summary_pre2015 = ['South', 'Sudan', 'Juba', 'President', 'Sudanese', 'State', 'Jonglei', 'Bor', 'Kiir','Abyei', 'Republic', \n",
    "                                        'United', 'African', 'Ethiopia', 'Ababa', 'Machar', 'Bentiu', 'Uganda', 'County', 'Malakal', 'Yau', 'Unity', \n",
    "                                        'Nile', 'Riek', 'Darfur', 'Lakes','Kenya', 'Security', 'Wau', 'National', 'Rumbek', 'December', 'Khartoum', 'Nuer',\n",
    "                                'Salva', 'Hon', 'Africa', 'Ghazal', 'East', 'Western', 'Equatoria', 'General','Pibor', 'Human', 'Minister', 'Ministry', 'Council', 'University', 'China', \n",
    "                                 'Bahr']\n",
    "\n",
    "chosen_keywords_yake_paragraphs_pre2015 = ['South', 'Sudan', 'Sudanese', 'Kiir', 'Nations', 'United', 'Salva', 'President',\n",
    "                                  'African', 'Ababa', 'state', 'Addis', 'State', 'Nile', 'Liberation', 'Union',\n",
    "                                  'Riek', 'Machar', 'Jonglei', 'National', 'Security', 'Council', 'Equatoria',\n",
    "                                  'Upper', 'People', 'Movement', 'Tribune', 'Bahr', 'Minister', 'Juba', 'Unity',\n",
    "                                  'Abyei', 'International', 'East', 'Yau', 'Lakes', 'General', 'Africa', 'president',\n",
    "                                  'Legislative', 'States', 'Mayardit', 'Central', 'County', 'government', 'Western',\n",
    "                                  'Kordofan', 'Deng', 'Nuer', 'people']\n",
    "\n",
    "# From nr 19 onwards it was 18 or less counts.\n",
    "chosen_keywords_yake_summary_post2015 = ['South', 'Sudan', 'Juba', 'President', 'Uganda', 'Sudanese', 'Machar',\n",
    "                                         'African', 'United', 'State', 'Ethiopia', 'Kenya', 'Africa', 'Kiir',\n",
    "                                         'Khartoum', 'Ababa', 'Minister', 'Unity', 'Rwanda', 'Human', 'Malakal',\n",
    "                                         'Council', 'Somalia', 'Security', 'East', 'Nile', 'Health', 'Republic',\n",
    "                                         'Equatoria', 'Abyei', 'June', 'Bentiu', 'County', 'Wau', 'Jonglei', 'Police',\n",
    "                                         'Darfur', 'July', 'August', 'National', 'Egypt', 'Salva', 'Nigeria', 'Rumbek',\n",
    "                                         'Kenyan', 'December','November', 'Malong', 'Ugandan', 'Development']\n",
    "\n",
    "\n",
    "chosen_keywords_yake_paragraphs_post2015 = ['South', 'Sudan', 'Sudanese', 'President', 'Nations', 'United', 'Salva', 'Kiir', 'African', 'Machar',\n",
    "                                            'Riek', 'Council', 'Security', 'Africa', 'Union', 'State', 'National', 'Minister', 'Nile', 'Addis',\n",
    "                                            'Liberation', 'Ababa', 'East', 'Foreign', 'Juba', 'government', 'peace', 'States', 'Unity', 'Kenyatta',\n",
    "                                            'Authority', 'International', 'Affairs', 'People', 'Uganda', 'General', 'Upper', 'Uhuru', 'Prime',\n",
    "                                            'Development', 'Vice', 'Deputy', 'Movement', 'World', 'state', 'people', 'Transitional', 'Kenya',\n",
    "                                            'Equatoria', 'Deng']\n",
    "\n",
    "\n",
    "\n",
    "chosen_keywords_rake_summary_pre2015 = ['south', 'sudan', 'government', 'state', 'president', 'sudanese', 'juba', 'people',\n",
    "                                        'country', 'conflict', 'peace', 'security', 'kiir', 'including', 'salva', 'international',\n",
    "                                        'countries', 'oil', 'political', 'un', 'national', 'violence', 'support', 'african', 'forces', 'states',\n",
    "                                        'new', 'united', 'minister', 'issues', 'ongoing', 'development', 'agreement', 'talks',\n",
    "                                        'humanitarian', 'machar', 'jonglei', 'unity', 'fighting', 'nile', 'border', 'nations', 'highlights',\n",
    "                                        'riek', 'civilians', 'khartoum', 'leaders', 'army', 'community', 'former']\n",
    "\n",
    "chosen_keywords_rake_paragraphs_pre2015 = ['sudan', 'south', 'government', 'people', 'juba', 'country', 'state', 'sudanese', 'president',\n",
    "                                            'peace', 'kiir', 'security', 'new', 'international', 'salva', 'national', 'states',\n",
    "                                            'conflict', 'united', 'minister', 'political', 'time', 'countries',\n",
    "                                            'including', 'support', 'war', 'forces', 'general', 'nations', 'development', 'nation',\n",
    "                                            'first', 'capital', 'african', 'agreement', 'former', 'fighting', 'world', 'khartoum', 'un',\n",
    "                                            'community', 'army', 'republic', 'members', 'issues', 'areas', 'independence', 'situation',\n",
    "                                            'violence', 'splm']\n",
    "\n",
    "\n",
    "chosen_keywords_rake_summary_post2015 = ['south', 'sudan', 'peace', 'government', 'president', 'people', 'country', 'juba', 'sudanese',\n",
    "                                         'conflict', 'security', 'kiir', 'agreement', 'salva', 'un', 'state', 'war', 'international',\n",
    "                                         'violence', 'national', 'machar', 'humanitarian', 'million', 'riek', 'countries', 'african',\n",
    "                                         'political', 'support', 'civil', 'united', 'food', 'uganda', 'unity', 'ongoing', 'leaders',\n",
    "                                         'states', 'new', 'forces', 'development', 'aid', 'fighting', 'nations', 'vice', 'highlights',\n",
    "                                         'efforts', 'civilians', 'parties', 'situation', 'crisis', 'council']\n",
    "\n",
    "chosen_keywords_rake_paragraphs_post2015 = ['sudan', 'south', 'country', 'government', 'people', 'peace', 'president', 'sudanese', 'juba',\n",
    "                                            'conflict', 'state', 'security', 'kiir', 'war', 'international', 'salva', 'agreement', 'last', \n",
    "                                            'national', 'new', 'united', 'machar', 'first', 'riek', 'un', 'countries', 'political', 'african',\n",
    "                                            'time', 'support', 'million', 'violence', 'nations', 'world', 'according', 'forces', 'civil',\n",
    "                                            'development', 'fighting', 'end', 'humanitarian', 'former', 'states', 'leaders', 'parties', 'africa',\n",
    "                                            'minister', 'vice', 'general', 'community']"
   ]
  },
  {
   "cell_type": "markdown",
   "metadata": {},
   "source": [
    "Visualization 2015"
   ]
  },
  {
   "cell_type": "code",
   "execution_count": null,
   "metadata": {},
   "outputs": [],
   "source": [
    "all_keywords_pre2015 =  chosen_keywords_rake_summary_post2015 + chosen_keywords_yake_summary_post2015 + chosen_keywords_rake_summary_pre2015 +  chosen_keywords_yake_summary_pre2015\n",
    "all_keywords_post2015 = chosen_keywords_yake_paragraphs_post2015 + chosen_keywords_rake_paragraphs_post2015 + chosen_keywords_rake_paragraphs_pre2015 + chosen_keywords_yake_paragraphs_pre2015\n",
    "\n",
    "#dict of sets\n",
    "sets = {\n",
    "    'Pre-2015': set(all_keywords_pre2015),\n",
    "    'Post-2015': set(all_keywords_post2015),\n",
    "    'ChatGPT': set(chosen_keywords_chatgpt)}\n",
    "\n",
    "venn_diagram = venn3(sets.values(), set_labels=sets.keys())\n",
    "\n",
    "# venn3(sets=sets, asax=ax)\n",
    "plt.title('Overlapping rake and yake keywords')                                            "
   ]
  },
  {
   "cell_type": "markdown",
   "metadata": {},
   "source": [
    "Visualization 2017"
   ]
  },
  {
   "cell_type": "code",
   "execution_count": null,
   "metadata": {},
   "outputs": [],
   "source": [
    "all_keywords_pre2017 =  chosen_keywords_rake_summary_post2017 + chosen_keywords_yake_summary_post2017 + chosen_keywords_rake_summary_pre2017 +  chosen_keywords_yake_summary_pre2017\n",
    "all_keywords_post2017 = chosen_keywords_yake_paragraphs_post2017 + chosen_keywords_rake_paragraphs_post2017 + chosen_keywords_rake_paragraphs_pre2017 + chosen_keywords_yake_paragraphs_pre2017\n",
    "\n",
    "#dict of sets\n",
    "sets = {\n",
    "    'Pre-2017': set(all_keywords_pre2017),\n",
    "    'Post-2017': set(all_keywords_post2017),\n",
    "    'ChatGPT': set(chosen_keywords_chatgpt)}\n",
    "\n",
    "venn_diagram = venn3(sets.values(), set_labels=sets.keys())\n",
    "\n",
    "# venn3(sets=sets, asax=ax)\n",
    "plt.title('Overlapping rake and yake keywords') "
   ]
  }
 ],
 "metadata": {
  "kernelspec": {
   "display_name": "Python 3 (ipykernel)",
   "language": "python",
   "name": "python3"
  },
  "language_info": {
   "codemirror_mode": {
    "name": "ipython",
    "version": 3
   },
   "file_extension": ".py",
   "mimetype": "text/x-python",
   "name": "python",
   "nbconvert_exporter": "python",
   "pygments_lexer": "ipython3",
   "version": "3.10.12"
  }
 },
 "nbformat": 4,
 "nbformat_minor": 4
}
