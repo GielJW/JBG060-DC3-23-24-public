{
 "cells": [
  {
   "cell_type": "markdown",
   "metadata": {},
   "source": [
    "### Only run if corrected dataset is not available already, or to check correctness\n",
    "\n",
    "This notebook merges the dataset with articles with the dataset cotinaing the full articles."
   ]
  },
  {
   "cell_type": "code",
   "execution_count": 4,
   "metadata": {},
   "outputs": [],
   "source": [
    "# Import necessary libraries\n",
    "import pandas as pd\n",
    "import os"
   ]
  },
  {
   "cell_type": "code",
   "execution_count": null,
   "metadata": {},
   "outputs": [],
   "source": [
    "# Setting the directory\n",
    "data_dir = ('\\\\data')"
   ]
  },
  {
   "cell_type": "code",
   "execution_count": 16,
   "metadata": {},
   "outputs": [],
   "source": [
    "# Read in both summarized and full paragraphs dataframes\n",
    "df = pd.read_csv(os.getcwd() + data_dir + '\\\\full_dataset.csv')\n",
    "df_summary = pd.read_csv(os.getcwd() + data_dir + '\\\\articles_summary_cleaned.csv')"
   ]
  },
  {
   "cell_type": "code",
   "execution_count": 125,
   "metadata": {},
   "outputs": [
    {
     "name": "stdout",
     "output_type": "stream",
     "text": [
      "unique values for each column:\n",
      "summary 19885\n",
      "date 3464\n",
      "name 5813\n",
      "lat 2840\n",
      "lng 2750\n",
      "id 19885\n",
      "paragraphs 19796\n",
      "publisher 276\n",
      "tags 5318\n",
      "shape of merged df: (329024, 9)\n"
     ]
    }
   ],
   "source": [
    "# Check the shape of the dataframes\n",
    "print('unique values for each column:')\n",
    "for i in df.columns:\n",
    "    print(i,len(df[i].unique()))\n",
    "print('shape of merged df:', df.shape)"
   ]
  },
  {
   "cell_type": "code",
   "execution_count": 128,
   "metadata": {},
   "outputs": [
    {
     "data": {
      "text/html": [
       "<div>\n",
       "<style scoped>\n",
       "    .dataframe tbody tr th:only-of-type {\n",
       "        vertical-align: middle;\n",
       "    }\n",
       "\n",
       "    .dataframe tbody tr th {\n",
       "        vertical-align: top;\n",
       "    }\n",
       "\n",
       "    .dataframe thead th {\n",
       "        text-align: right;\n",
       "    }\n",
       "</style>\n",
       "<table border=\"1\" class=\"dataframe\">\n",
       "  <thead>\n",
       "    <tr style=\"text-align: right;\">\n",
       "      <th></th>\n",
       "      <th>index</th>\n",
       "      <th>name</th>\n",
       "      <th>summary</th>\n",
       "      <th>date</th>\n",
       "      <th>lat</th>\n",
       "      <th>lng</th>\n",
       "      <th>paragraphs</th>\n",
       "      <th>publisher</th>\n",
       "      <th>tags</th>\n",
       "    </tr>\n",
       "  </thead>\n",
       "  <tbody>\n",
       "    <tr>\n",
       "      <th>0</th>\n",
       "      <td>The article discusses the passing of the new C...</td>\n",
       "      <td>Juba</td>\n",
       "      <td>The article discusses the passing of the new C...</td>\n",
       "      <td>2011-07-07</td>\n",
       "      <td>4.859363</td>\n",
       "      <td>31.571250</td>\n",
       "      <td>Juba — THE parliament of South Sudan has passe...</td>\n",
       "      <td>New Vision (Kampala)</td>\n",
       "      <td>['South Sudan', 'East Africa', 'Governance', '...</td>\n",
       "    </tr>\n",
       "    <tr>\n",
       "      <th>1</th>\n",
       "      <td>The article discusses the military actions tak...</td>\n",
       "      <td>Abyei</td>\n",
       "      <td>The article discusses the military actions tak...</td>\n",
       "      <td>2011-07-03</td>\n",
       "      <td>9.838551</td>\n",
       "      <td>28.486396</td>\n",
       "      <td>What is the logic of Khartoum's military actio...</td>\n",
       "      <td>South Sudan News Agency</td>\n",
       "      <td>['South Sudan', 'East Africa', 'Business', 'Co...</td>\n",
       "    </tr>\n",
       "    <tr>\n",
       "      <th>2</th>\n",
       "      <td>The article discusses the signing of a Framewo...</td>\n",
       "      <td>Southern Kordofan</td>\n",
       "      <td>The article discusses the signing of a Framewo...</td>\n",
       "      <td>2011-06-30</td>\n",
       "      <td>11.036544</td>\n",
       "      <td>30.895824</td>\n",
       "      <td>Secretary-General Ban Ki-moon today welcomed t...</td>\n",
       "      <td>UN News Service</td>\n",
       "      <td>['Sudan', 'East Africa', 'Governance', 'Extern...</td>\n",
       "    </tr>\n",
       "    <tr>\n",
       "      <th>3</th>\n",
       "      <td>The article discusses the upcoming independenc...</td>\n",
       "      <td>South Sudan</td>\n",
       "      <td>The article discusses the upcoming independenc...</td>\n",
       "      <td>2011-07-04</td>\n",
       "      <td>6.876992</td>\n",
       "      <td>31.306979</td>\n",
       "      <td>AS South Sudan readies itself to become the wo...</td>\n",
       "      <td>The Moment (London)</td>\n",
       "      <td>['Sudan', 'East Africa', 'Africa', 'South Sudan']</td>\n",
       "    </tr>\n",
       "    <tr>\n",
       "      <th>4</th>\n",
       "      <td>The article discusses the need for South Sudan...</td>\n",
       "      <td>Juba</td>\n",
       "      <td>The article discusses the need for South Sudan...</td>\n",
       "      <td>2011-07-02</td>\n",
       "      <td>4.859363</td>\n",
       "      <td>31.571250</td>\n",
       "      <td>Juba — The Vice President of the soon-to-be in...</td>\n",
       "      <td>Sudan Tribune</td>\n",
       "      <td>['South Sudan', 'East Africa', 'Business', 'Ex...</td>\n",
       "    </tr>\n",
       "  </tbody>\n",
       "</table>\n",
       "</div>"
      ],
      "text/plain": [
       "                                               index               name  \\\n",
       "0  The article discusses the passing of the new C...               Juba   \n",
       "1  The article discusses the military actions tak...              Abyei   \n",
       "2  The article discusses the signing of a Framewo...  Southern Kordofan   \n",
       "3  The article discusses the upcoming independenc...        South Sudan   \n",
       "4  The article discusses the need for South Sudan...               Juba   \n",
       "\n",
       "                                             summary        date        lat  \\\n",
       "0  The article discusses the passing of the new C...  2011-07-07   4.859363   \n",
       "1  The article discusses the military actions tak...  2011-07-03   9.838551   \n",
       "2  The article discusses the signing of a Framewo...  2011-06-30  11.036544   \n",
       "3  The article discusses the upcoming independenc...  2011-07-04   6.876992   \n",
       "4  The article discusses the need for South Sudan...  2011-07-02   4.859363   \n",
       "\n",
       "         lng                                         paragraphs  \\\n",
       "0  31.571250  Juba — THE parliament of South Sudan has passe...   \n",
       "1  28.486396  What is the logic of Khartoum's military actio...   \n",
       "2  30.895824  Secretary-General Ban Ki-moon today welcomed t...   \n",
       "3  31.306979  AS South Sudan readies itself to become the wo...   \n",
       "4  31.571250  Juba — The Vice President of the soon-to-be in...   \n",
       "\n",
       "                 publisher                                               tags  \n",
       "0     New Vision (Kampala)  ['South Sudan', 'East Africa', 'Governance', '...  \n",
       "1  South Sudan News Agency  ['South Sudan', 'East Africa', 'Business', 'Co...  \n",
       "2          UN News Service  ['Sudan', 'East Africa', 'Governance', 'Extern...  \n",
       "3      The Moment (London)  ['Sudan', 'East Africa', 'Africa', 'South Sudan']  \n",
       "4            Sudan Tribune  ['South Sudan', 'East Africa', 'Business', 'Ex...  "
      ]
     },
     "execution_count": 128,
     "metadata": {},
     "output_type": "execute_result"
    }
   ],
   "source": [
    "# return the first row of each group\n",
    "df2 = df.groupby(['id', 'name']).first().reset_index()\n",
    "\n",
    "df_summary.set_index(df_summary['summary'] + df_summary['location_article'], inplace=True)\n",
    "# df_summary['key'] = pd.util.hash_pandas_object(df_summary['key'])\n",
    "\n",
    "df2.set_index(df2['summary'] + df2['name'], inplace=True)\n",
    "# df2['key'] = pd.util.hash_pandas_object(df2['key'])\n",
    "\n",
    "# join df_summary and df2 on the index using df2 as master.\n",
    "df_merged = pd.merge(df2, df_summary, how='inner', left_index=True, right_index=True, suffixes=('', '_remove')).reset_index()\n",
    "\n",
    "# drop duplicate columns from the join where the values are the same\n",
    "df_merged.drop([i for i in df_merged.columns if 'remove' in i],\n",
    "               axis=1, inplace=True)\n",
    "# drop location_article and key columns as well\n",
    "df_merged.drop(['location_article', 'id', 'key'], axis=1, inplace=True)\n",
    "\n",
    "# show the first 5 rows of the merged df\n",
    "df_merged.head()"
   ]
  },
  {
   "cell_type": "code",
   "execution_count": 129,
   "metadata": {},
   "outputs": [],
   "source": [
    "# save the merged df to a csv file of the name 'corrected_full_dataset.csv'\n",
    "df_merged.to_csv(os.getcwd() + data_dir + '\\\\corrected_full_dataset.csv', index=False)"
   ]
  }
 ],
 "metadata": {
  "kernelspec": {
   "display_name": "DC3",
   "language": "python",
   "name": "python3"
  },
  "language_info": {
   "codemirror_mode": {
    "name": "ipython",
    "version": 3
   },
   "file_extension": ".py",
   "mimetype": "text/x-python",
   "name": "python",
   "nbconvert_exporter": "python",
   "pygments_lexer": "ipython3",
   "version": "3.10.12"
  }
 },
 "nbformat": 4,
 "nbformat_minor": 2
}
