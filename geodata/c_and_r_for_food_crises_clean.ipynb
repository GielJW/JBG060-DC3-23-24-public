{
 "cells": [
  {
   "attachments": {},
   "cell_type": "markdown",
   "metadata": {},
   "source": [
    "Load the South Sudan regions"
   ]
  },
  {
   "cell_type": "code",
   "execution_count": 1,
   "metadata": {},
   "outputs": [],
   "source": [
    "import geopandas as gpd\n",
    "import requests\n",
    "from shapely.geometry import Point\n",
    "import matplotlib.pyplot as plt\n",
    "import pandas as pd"
   ]
  },
  {
   "cell_type": "code",
   "execution_count": 2,
   "metadata": {},
   "outputs": [],
   "source": [
    "counties_gdf = gpd.read_file('/Users/liliiaaliakberova/Desktop/Study/TUe_3_semester/Data_Challenge/JBG060-DC3-23-24-public-main/ss_county_boundaries.geojson')"
   ]
  },
  {
   "cell_type": "code",
   "execution_count": 3,
   "metadata": {},
   "outputs": [
    {
     "data": {
      "text/plain": [
       "<bound method NDFrame.head of    ADMIN2NAME ADMIN2PCOD ADMIN2REFN ADMIN2ALTN ADMIN2AL_1         ADMIN1NAME   \n",
       "0      Morobo     SS9205     Morobo       None       None  Central Equatoria  \\\n",
       "1   Kajo-keji     SS9206  Kajo-keji       None       None  Central Equatoria   \n",
       "2      Lainya     SS9203     Lainya       None       None  Central Equatoria   \n",
       "3         Yei     SS9204        Yei       None       None  Central Equatoria   \n",
       "4        Juba     SS9202       Juba       None       None  Central Equatoria   \n",
       "..        ...        ...        ...        ...        ...                ...   \n",
       "74    Fashoda     SS7103    Fashoda       None       None         Upper Nile   \n",
       "75      Melut     SS7104      Melut       None       None         Upper Nile   \n",
       "76      Manyo     SS7102      Manyo       None       None         Upper Nile   \n",
       "77       Renk     SS7101       Renk       None       None         Upper Nile   \n",
       "78      Maban     SS7105      Maban       None       None         Upper Nile   \n",
       "\n",
       "   ADMIN1PCOD   ADMIN0NAME ADMIN0PCOD       DATE    VALIDON VALIDTO   \n",
       "0        SS92  South Sudan         SS 2008-12-01 2016-01-14    None  \\\n",
       "1        SS92  South Sudan         SS 2008-12-01 2016-01-14    None   \n",
       "2        SS92  South Sudan         SS 2008-12-01 2016-01-14    None   \n",
       "3        SS92  South Sudan         SS 2008-12-01 2016-01-14    None   \n",
       "4        SS92  South Sudan         SS 2008-12-01 2016-01-14    None   \n",
       "..        ...          ...        ...        ...        ...     ...   \n",
       "74       SS71  South Sudan         SS 2008-12-01 2016-01-14    None   \n",
       "75       SS71  South Sudan         SS 2008-12-01 2016-01-14    None   \n",
       "76       SS71  South Sudan         SS 2008-12-01 2016-01-14    None   \n",
       "77       SS71  South Sudan         SS 2008-12-01 2016-01-14    None   \n",
       "78       SS71  South Sudan         SS 2008-12-01 2016-01-14    None   \n",
       "\n",
       "    SHAPE_LENG  SHAPE_AREA    ADMIN_2 ADMIN2PC_1 ADMIN2RE_1   \n",
       "0     2.047768    0.106125     Morobo     SS3205     Morobo  \\\n",
       "1     1.961517    0.205068  Kajo-keji     SS3206  Kajo-keji   \n",
       "2     3.392752    0.284926     Lainya     SS3203     Lainya   \n",
       "3     4.110905    0.547453        Yei     SS3204        Yei   \n",
       "4     6.425265    1.497073       Juba     SS3202       Juba   \n",
       "..         ...         ...        ...        ...        ...   \n",
       "74    2.339419    0.296426    Fashoda     SS1103    Fashoda   \n",
       "75    3.506570    0.573070      Melut     SS1104      Melut   \n",
       "76    5.562564    0.552764      Manyo     SS1102      Manyo   \n",
       "77    5.330646    0.830239       Renk     SS1101       Renk   \n",
       "78    4.098004    0.974874      Maban     SS1105      Maban   \n",
       "\n",
       "              ADMIN_1                                           geometry  \n",
       "0   Central Equatoria  POLYGON ((30.55778 3.62875, 30.56061 3.63394, ...  \n",
       "1   Central Equatoria  POLYGON ((31.09764 3.97353, 31.21043 4.02022, ...  \n",
       "2   Central Equatoria  POLYGON ((30.46251 4.52642, 30.49221 4.57439, ...  \n",
       "3   Central Equatoria  POLYGON ((29.79663 4.37574, 29.79999 4.37909, ...  \n",
       "4   Central Equatoria  POLYGON ((32.10224 5.36788, 32.09834 5.21346, ...  \n",
       "..                ...                                                ...  \n",
       "74         Upper Nile  POLYGON ((32.28899 10.12369, 32.26860 10.07838...  \n",
       "75         Upper Nile  POLYGON ((32.95938 10.34594, 33.00270 10.16674...  \n",
       "76         Upper Nile  POLYGON ((32.46799 10.84873, 32.44986 10.84193...  \n",
       "77         Upper Nile  POLYGON ((33.36009 10.69385, 33.07974 10.60176...  \n",
       "78         Upper Nile  POLYGON ((32.95703 10.06026, 32.95739 10.06025...  \n",
       "\n",
       "[79 rows x 19 columns]>"
      ]
     },
     "execution_count": 3,
     "metadata": {},
     "output_type": "execute_result"
    }
   ],
   "source": [
    "counties_gdf.head\n"
   ]
  },
  {
   "cell_type": "code",
   "execution_count": 4,
   "metadata": {},
   "outputs": [
    {
     "data": {
      "text/plain": [
       "<bound method Series.count of 0        Morobo\n",
       "1     Kajo-keji\n",
       "2        Lainya\n",
       "3           Yei\n",
       "4          Juba\n",
       "        ...    \n",
       "74      Fashoda\n",
       "75        Melut\n",
       "76        Manyo\n",
       "77         Renk\n",
       "78        Maban\n",
       "Name: ADMIN2NAME, Length: 79, dtype: object>"
      ]
     },
     "execution_count": 4,
     "metadata": {},
     "output_type": "execute_result"
    }
   ],
   "source": [
    "counties_gdf.ADMIN2NAME.count"
   ]
  },
  {
   "cell_type": "code",
   "execution_count": 5,
   "metadata": {},
   "outputs": [
    {
     "name": "stdout",
     "output_type": "stream",
     "text": [
      "0        Morobo\n",
      "1     Kajo-keji\n",
      "2        Lainya\n",
      "3           Yei\n",
      "4          Juba\n",
      "        ...    \n",
      "74      Fashoda\n",
      "75        Melut\n",
      "76        Manyo\n",
      "77         Renk\n",
      "78        Maban\n",
      "Name: ADMIN2NAME, Length: 79, dtype: object 0     Central Equatoria\n",
      "1     Central Equatoria\n",
      "2     Central Equatoria\n",
      "3     Central Equatoria\n",
      "4     Central Equatoria\n",
      "            ...        \n",
      "74           Upper Nile\n",
      "75           Upper Nile\n",
      "76           Upper Nile\n",
      "77           Upper Nile\n",
      "78           Upper Nile\n",
      "Name: ADMIN1NAME, Length: 79, dtype: object\n"
     ]
    }
   ],
   "source": [
    "print (counties_gdf.ADMIN2NAME, counties_gdf.ADMIN1NAME)"
   ]
  },
  {
   "cell_type": "code",
   "execution_count": 6,
   "metadata": {},
   "outputs": [],
   "source": [
    "county_region_data = counties_gdf[['ADMIN2NAME', 'ADMIN1NAME', 'geometry']].copy()\n",
    "\n",
    "county_region_data.columns = ['County_Name','Region_Name', 'Geometry']"
   ]
  },
  {
   "cell_type": "code",
   "execution_count": 7,
   "metadata": {},
   "outputs": [
    {
     "data": {
      "text/html": [
       "<div>\n",
       "<style scoped>\n",
       "    .dataframe tbody tr th:only-of-type {\n",
       "        vertical-align: middle;\n",
       "    }\n",
       "\n",
       "    .dataframe tbody tr th {\n",
       "        vertical-align: top;\n",
       "    }\n",
       "\n",
       "    .dataframe thead th {\n",
       "        text-align: right;\n",
       "    }\n",
       "</style>\n",
       "<table border=\"1\" class=\"dataframe\">\n",
       "  <thead>\n",
       "    <tr style=\"text-align: right;\">\n",
       "      <th></th>\n",
       "      <th>County_Name</th>\n",
       "      <th>Region_Name</th>\n",
       "      <th>Geometry</th>\n",
       "    </tr>\n",
       "  </thead>\n",
       "  <tbody>\n",
       "    <tr>\n",
       "      <th>0</th>\n",
       "      <td>Morobo</td>\n",
       "      <td>Central Equatoria</td>\n",
       "      <td>POLYGON ((30.55778 3.62875, 30.56061 3.63394, ...</td>\n",
       "    </tr>\n",
       "    <tr>\n",
       "      <th>1</th>\n",
       "      <td>Kajo-keji</td>\n",
       "      <td>Central Equatoria</td>\n",
       "      <td>POLYGON ((31.09764 3.97353, 31.21043 4.02022, ...</td>\n",
       "    </tr>\n",
       "    <tr>\n",
       "      <th>2</th>\n",
       "      <td>Lainya</td>\n",
       "      <td>Central Equatoria</td>\n",
       "      <td>POLYGON ((30.46251 4.52642, 30.49221 4.57439, ...</td>\n",
       "    </tr>\n",
       "    <tr>\n",
       "      <th>3</th>\n",
       "      <td>Yei</td>\n",
       "      <td>Central Equatoria</td>\n",
       "      <td>POLYGON ((29.79663 4.37574, 29.79999 4.37909, ...</td>\n",
       "    </tr>\n",
       "    <tr>\n",
       "      <th>4</th>\n",
       "      <td>Juba</td>\n",
       "      <td>Central Equatoria</td>\n",
       "      <td>POLYGON ((32.10224 5.36788, 32.09834 5.21346, ...</td>\n",
       "    </tr>\n",
       "    <tr>\n",
       "      <th>...</th>\n",
       "      <td>...</td>\n",
       "      <td>...</td>\n",
       "      <td>...</td>\n",
       "    </tr>\n",
       "    <tr>\n",
       "      <th>74</th>\n",
       "      <td>Fashoda</td>\n",
       "      <td>Upper Nile</td>\n",
       "      <td>POLYGON ((32.28899 10.12369, 32.26860 10.07838...</td>\n",
       "    </tr>\n",
       "    <tr>\n",
       "      <th>75</th>\n",
       "      <td>Melut</td>\n",
       "      <td>Upper Nile</td>\n",
       "      <td>POLYGON ((32.95938 10.34594, 33.00270 10.16674...</td>\n",
       "    </tr>\n",
       "    <tr>\n",
       "      <th>76</th>\n",
       "      <td>Manyo</td>\n",
       "      <td>Upper Nile</td>\n",
       "      <td>POLYGON ((32.46799 10.84873, 32.44986 10.84193...</td>\n",
       "    </tr>\n",
       "    <tr>\n",
       "      <th>77</th>\n",
       "      <td>Renk</td>\n",
       "      <td>Upper Nile</td>\n",
       "      <td>POLYGON ((33.36009 10.69385, 33.07974 10.60176...</td>\n",
       "    </tr>\n",
       "    <tr>\n",
       "      <th>78</th>\n",
       "      <td>Maban</td>\n",
       "      <td>Upper Nile</td>\n",
       "      <td>POLYGON ((32.95703 10.06026, 32.95739 10.06025...</td>\n",
       "    </tr>\n",
       "  </tbody>\n",
       "</table>\n",
       "<p>79 rows × 3 columns</p>\n",
       "</div>"
      ],
      "text/plain": [
       "   County_Name        Region_Name   \n",
       "0       Morobo  Central Equatoria  \\\n",
       "1    Kajo-keji  Central Equatoria   \n",
       "2       Lainya  Central Equatoria   \n",
       "3          Yei  Central Equatoria   \n",
       "4         Juba  Central Equatoria   \n",
       "..         ...                ...   \n",
       "74     Fashoda         Upper Nile   \n",
       "75       Melut         Upper Nile   \n",
       "76       Manyo         Upper Nile   \n",
       "77        Renk         Upper Nile   \n",
       "78       Maban         Upper Nile   \n",
       "\n",
       "                                             Geometry  \n",
       "0   POLYGON ((30.55778 3.62875, 30.56061 3.63394, ...  \n",
       "1   POLYGON ((31.09764 3.97353, 31.21043 4.02022, ...  \n",
       "2   POLYGON ((30.46251 4.52642, 30.49221 4.57439, ...  \n",
       "3   POLYGON ((29.79663 4.37574, 29.79999 4.37909, ...  \n",
       "4   POLYGON ((32.10224 5.36788, 32.09834 5.21346, ...  \n",
       "..                                                ...  \n",
       "74  POLYGON ((32.28899 10.12369, 32.26860 10.07838...  \n",
       "75  POLYGON ((32.95938 10.34594, 33.00270 10.16674...  \n",
       "76  POLYGON ((32.46799 10.84873, 32.44986 10.84193...  \n",
       "77  POLYGON ((33.36009 10.69385, 33.07974 10.60176...  \n",
       "78  POLYGON ((32.95703 10.06026, 32.95739 10.06025...  \n",
       "\n",
       "[79 rows x 3 columns]"
      ]
     },
     "execution_count": 7,
     "metadata": {},
     "output_type": "execute_result"
    }
   ],
   "source": [
    "county_region_data"
   ]
  },
  {
   "cell_type": "code",
   "execution_count": 22,
   "metadata": {},
   "outputs": [
    {
     "name": "stderr",
     "output_type": "stream",
     "text": [
      "/Library/Frameworks/Python.framework/Versions/3.11/lib/python3.11/site-packages/IPython/core/interactiveshell.py:3318: FutureWarning: The `op` parameter is deprecated and will be removed in a future release. Please use the `predicate` parameter instead.\n",
      "  if await self.run_code(code, result, async_=asy):\n",
      "/var/folders/1r/3fk_x7p96299qsbl_p0t7v6h0000gn/T/ipykernel_30157/3607736051.py:9: UserWarning: CRS mismatch between the CRS of left geometries and the CRS of right geometries.\n",
      "Use `to_crs()` to reproject one of the input geometries to match the CRS of the other.\n",
      "\n",
      "Left CRS: None\n",
      "Right CRS: EPSG:4326\n",
      "\n",
      "  result = gpd.sjoin(places_gdf, counties_gdf, op='intersects')\n"
     ]
    },
    {
     "name": "stdout",
     "output_type": "stream",
     "text": [
      "      district ADMIN2NAME  ADMIN1NAME\n",
      "0          Bor  Bor South     Jonglei\n",
      "1          Bor  Bor South     Jonglei\n",
      "2          Bor  Bor South     Jonglei\n",
      "3          Bor  Bor South     Jonglei\n",
      "4          Bor  Bor South     Jonglei\n",
      "...        ...        ...         ...\n",
      "12319  Malakal    Malakal  Upper Nile\n",
      "12320  Malakal    Malakal  Upper Nile\n",
      "12321  Malakal    Malakal  Upper Nile\n",
      "12322  Malakal    Malakal  Upper Nile\n",
      "12323  Malakal    Malakal  Upper Nile\n",
      "\n",
      "[12166 rows x 3 columns]\n",
      "           country  district_code district     centx     centy ADMIN2NAME   \n",
      "0      South Sudan             74      Bor  32.00486  6.465644  Bor South  \\\n",
      "1      South Sudan             74      Bor  32.00486  6.465644  Bor South   \n",
      "2      South Sudan             74      Bor  32.00486  6.465644  Bor South   \n",
      "3      South Sudan             74      Bor  32.00486  6.465644  Bor South   \n",
      "4      South Sudan             74      Bor  32.00486  6.465644  Bor South   \n",
      "...            ...            ...      ...       ...       ...        ...   \n",
      "12319  South Sudan            151  Malakal  31.64280  9.658457    Malakal   \n",
      "12320  South Sudan            151  Malakal  31.64280  9.658457    Malakal   \n",
      "12321  South Sudan            151  Malakal  31.64280  9.658457    Malakal   \n",
      "12322  South Sudan            151  Malakal  31.64280  9.658457    Malakal   \n",
      "12323  South Sudan            151  Malakal  31.64280  9.658457    Malakal   \n",
      "\n",
      "       ADMIN1NAME year_month  year  month  ...   et_anom  count_violence   \n",
      "0         Jonglei    2007_01  2007      1  ...  0.048880               0  \\\n",
      "1         Jonglei    2007_02  2007      2  ... -0.457928               0   \n",
      "2         Jonglei    2007_03  2007      3  ... -0.590175               0   \n",
      "3         Jonglei    2007_04  2007      4  ... -1.845536               0   \n",
      "4         Jonglei    2007_05  2007      5  ... -2.972735               0   \n",
      "...           ...        ...   ...    ...  ...       ...             ...   \n",
      "12319  Upper Nile    2019_10  2019     10  ...  6.053181               1   \n",
      "12320  Upper Nile    2019_11  2019     11  ...  8.745254               0   \n",
      "12321  Upper Nile    2019_12  2019     12  ...  1.698060               0   \n",
      "12322  Upper Nile    2020_01  2020      1  ...  1.046844               0   \n",
      "12323  Upper Nile    2020_02  2020      2  ...  0.441174               0   \n",
      "\n",
      "       sum_fatalities  food_price_idx        area  cropland_pct       pop   \n",
      "0                   0        0.561363  14008.3300      7.961984  239344.0  \\\n",
      "1                   0        0.565693  14008.3300      7.961984  239344.0   \n",
      "2                   0        0.592437  14008.3300      7.961984  239344.0   \n",
      "3                   0        0.605352  14008.3300      7.961984  239344.0   \n",
      "4                   0        0.618699  14008.3300      7.961984  239344.0   \n",
      "...               ...             ...         ...           ...       ...   \n",
      "12319               0       82.872570    757.7855     13.068690  102228.0   \n",
      "12320               0       87.728720    757.7855     13.068690  102228.0   \n",
      "12321               0       93.566750    757.7855     13.068690  102228.0   \n",
      "12322               0      106.793600    757.7855     13.068690  163171.3   \n",
      "12323               0      113.214100    757.7855     13.068690  163171.3   \n",
      "\n",
      "       ruggedness_mean  pasture_pct        date  \n",
      "0            11393.760      90.8503  2007-01-01  \n",
      "1            11393.760      90.8503  2007-02-01  \n",
      "2            11393.760      90.8503  2007-03-01  \n",
      "3            11393.760      90.8503  2007-04-01  \n",
      "4            11393.760      90.8503  2007-05-01  \n",
      "...                ...          ...         ...  \n",
      "12319         7145.909      85.5000  2019-10-01  \n",
      "12320         7145.909      85.5000  2019-11-01  \n",
      "12321         7145.909      85.5000  2019-12-01  \n",
      "12322         7145.909      85.5000  2020-01-01  \n",
      "12323         7145.909      85.5000  2020-02-01  \n",
      "\n",
      "[12166 rows x 27 columns]\n"
     ]
    }
   ],
   "source": [
    "food_crises_df = pd.read_csv('/Users/liliiaaliakberova/Desktop/Study/TUe_3_semester/Data_Challenge/JBG060-DC3-23-24-public-main/data/food_crises_cleaned.csv')\n",
    "\n",
    "# Create a GeoDataFrame for places\n",
    "geometry = [Point(xy) for xy in zip(food_crises_df['centx'], food_crises_df['centy'])]\n",
    "places_gdf = gpd.GeoDataFrame(food_crises_df, geometry=geometry)\n",
    "\n",
    "\n",
    "# Perform a spatial join to find which regions intersect with each place\n",
    "result = gpd.sjoin(places_gdf, counties_gdf, op='intersects')\n",
    "\n",
    "# Display the result\n",
    "print(result[['district', 'ADMIN2NAME', 'ADMIN1NAME']])\n",
    "food_crises_with_counties_regions =  result[['country', 'district_code','district', 'centx', 'centy', 'ADMIN2NAME', 'ADMIN1NAME', 'year_month','year','month','ipc', 'ha','ndvi_mean','ndvi_anom','rain_mean','rain_anom','et_mean','et_anom','count_violence','sum_fatalities','food_price_idx','area','cropland_pct','pop','ruggedness_mean', 'pasture_pct','date']]\n",
    "\n",
    "print(food_crises_with_counties_regions)\n"
   ]
  },
  {
   "cell_type": "code",
   "execution_count": 23,
   "metadata": {},
   "outputs": [],
   "source": [
    "food_crises_with_counties_regions.columns = ['country', 'district_code','district', 'centx', 'centy', 'county', 'region', 'year_month','year','month','ipc', 'ha','ndvi_mean','ndvi_anom','rain_mean','rain_anom','et_mean','et_anom','count_violence','sum_fatalities','food_price_idx','area','cropland_pct','pop','ruggedness_mean', 'pasture_pct','date']\n",
    "output_csv_path = '/Users/liliiaaliakberova/Desktop/Study/TUe_3_semester/Data_Challenge/JBG060-DC3-23-24-public-main/data/food_crises_with_counties_regions.csv'\n",
    "food_crises_with_counties_regions.to_csv(output_csv_path, index=False)"
   ]
  },
  {
   "cell_type": "code",
   "execution_count": null,
   "metadata": {},
   "outputs": [],
   "source": []
  }
 ],
 "metadata": {
  "kernelspec": {
   "display_name": "Python 3 (ipykernel)",
   "language": "python",
   "name": "python3"
  },
  "language_info": {
   "codemirror_mode": {
    "name": "ipython",
    "version": 3
   },
   "file_extension": ".py",
   "mimetype": "text/x-python",
   "name": "python",
   "nbconvert_exporter": "python",
   "pygments_lexer": "ipython3",
   "version": "3.11.0"
  },
  "orig_nbformat": 4
 },
 "nbformat": 4,
 "nbformat_minor": 2
}
